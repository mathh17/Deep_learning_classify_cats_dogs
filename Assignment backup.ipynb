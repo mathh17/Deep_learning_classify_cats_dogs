{
 "cells": [
  {
   "cell_type": "code",
   "execution_count": 38,
   "metadata": {},
   "outputs": [],
   "source": [
    "import numpy as np\r\n",
    "import pandas as pd\r\n",
    "import seaborn as sns\r\n",
    "import os\r\n",
    "# load and display an image with Matplotlib\r\n",
    "from matplotlib import image\r\n",
    "from matplotlib import pyplot\r\n",
    "from sklearn import preprocessing\r\n",
    "from sklearn.model_selection import train_test_split\r\n",
    "import tensorflow as tf\r\n",
    "from keras.preprocessing.image import load_img\r\n",
    "from keras.preprocessing.image import img_to_array\r\n",
    "from numpy import asarray\r\n",
    "import os"
   ],
   "outputs": [],
   "metadata": {}
  },
  {
   "cell_type": "markdown",
   "source": [
    "# Task 1 - Getting the data in\r\n",
    "\r\n",
    "# ift. opdelingen af test,train og validering har jeg simpelthen bare taget det manuelt fra den store mappe og opdelt det i 20% test og 20% af train til validering\r\n",
    "# Dette betyder at vi fra det originale data har:\r\n",
    "# test: 520 billeder, 260 af hver\r\n",
    "# train: 1664 billeder, 832 af hver\r\n",
    "# Validation: 416, 206 af hver"
   ],
   "metadata": {}
  },
  {
   "cell_type": "code",
   "execution_count": 39,
   "metadata": {},
   "outputs": [],
   "source": [
    "# goes through the folder containing the data and adds them to a list, generates labels and add data to validate labels against\n",
    "\n",
    "def load_image_function(path):\n",
    "\n",
    "    images = [] # empty list placeholder\n",
    "    labels = [] # empty list placeholder\n",
    "    animal_checker = 'cat' # used to create labels\n",
    "    container = [] # container to validate correct labels\n",
    "\n",
    "    for filename in os.listdir(path):\n",
    "\n",
    "      container.append(filename) # add filename to container\n",
    "\n",
    "      if animal_checker in filename:\n",
    "        labels.append('cat') # check if cat is in filename. If so append cat to label\n",
    "      elif animal_checker not in filename:\n",
    "        labels.append('dog') # else add dog to label\n",
    "\n",
    "      animal_photo = load_img(path + f'/{filename}', target_size = (150, 150)) # standardize photo size + loads\n",
    "      animal_photo = img_to_array(animal_photo) # creates an array\n",
    "\n",
    "      images.append(animal_photo) # append the photo to the images. The images list contains a list of arrays\n",
    "    \n",
    "    return asarray(images), asarray(labels), container; # not interested in list of arrays, but array containing lists. Asarray does this. Returns three arrays"
   ],
   "outputs": [],
   "metadata": {}
  },
  {
   "cell_type": "code",
   "execution_count": 40,
   "metadata": {},
   "outputs": [],
   "source": [
    "train_data, train_labels, train_container = load_image_function('./train') # load train data"
   ],
   "outputs": [],
   "metadata": {}
  },
  {
   "cell_type": "code",
   "execution_count": 41,
   "metadata": {},
   "outputs": [
    {
     "output_type": "stream",
     "name": "stdout",
     "text": [
      "The training labels is: ['dog' 'dog' 'cat' 'cat' 'cat'] and the imported is ['dog.1753.jpg', 'dog.775.jpg', 'cat.1577.jpg', 'cat.952.jpg', 'cat.946.jpg']\n"
     ]
    }
   ],
   "source": [
    "print(f'The training labels is: {train_labels[:5]} and the imported is {train_container[:5]}') # check train data is correct loaded"
   ]
  },
  {
   "cell_type": "code",
   "execution_count": 42,
   "metadata": {},
   "outputs": [
    {
     "output_type": "stream",
     "name": "stdout",
     "text": [
      "The test labels is: ['cat' 'dog' 'dog' 'cat' 'cat'] and the imported is ['cat.6.jpg', 'dog.211.jpg', 'dog.205.jpg', 'cat.211.jpg', 'cat.205.jpg']\n"
     ]
    }
   ],
   "source": [
    "test_data, test_labels, test_container = load_image_function('./test') # load test data\n",
    "\n",
    "print(f'The test labels is: {test_labels[:5]} and the imported is {test_container[:5]}') # check test data is correct loaded"
   ]
  },
  {
   "cell_type": "code",
   "execution_count": 43,
   "metadata": {},
   "outputs": [
    {
     "output_type": "stream",
     "name": "stdout",
     "text": [
      "The val labels is: ['dog' 'cat' 'dog' 'dog' 'dog'] and the imported is ['dog.239.jpg', 'cat.239.jpg', 'dog.365.jpg', 'dog.403.jpg', 'dog.417.jpg']\n"
     ]
    }
   ],
   "source": [
    "val_data, val_labels, val_container = load_image_function('./validation') # load val data\n",
    "\n",
    "print(f'The val labels is: {val_labels[:5]} and the imported is {val_container[:5]}') # check val data is correct loaded"
   ]
  },
  {
   "cell_type": "code",
   "execution_count": 44,
   "metadata": {},
   "outputs": [],
   "metadata": {}
  },
  {
   "cell_type": "code",
   "execution_count": 45,
   "metadata": {},
   "outputs": [
    {
     "output_type": "stream",
     "name": "stdout",
     "text": [
      "Train has shape: (1664, 150, 150, 3) \n",
      "Test has shape: (520, 150, 150, 3) \n",
      "Validation has shape: (416, 150, 150, 3)\n"
     ]
    }
   ],
   "source": [
    "# checking if reshape is necessary. \n",
    "\n",
    "print(f'Train has shape: {train_data.shape} \\nTest has shape: {test_data.shape} \\nValidation has shape: {val_data.shape}')\n",
    "\n",
    "# Since they all have (# rows, width, height, # of color channelse) reshaping is not necessary "
   ]
  },
  {
   "cell_type": "markdown",
   "source": [
    "# Task 2 - Create the datagenerators"
   ],
   "metadata": {}
  }
 ],
 "metadata": {
  "kernelspec": {
   "display_name": "Python 3",
   "language": "python",
   "name": "python3"
  },
  "language_info": {
   "codemirror_mode": {
    "name": "ipython",
    "version": 3
   },
   "file_extension": ".py",
   "mimetype": "text/x-python",
   "name": "python",
   "nbconvert_exporter": "python",
   "pygments_lexer": "ipython3",
   "version": "3.8.2"
  }
 },
 "nbformat": 4,
 "nbformat_minor": 4
}